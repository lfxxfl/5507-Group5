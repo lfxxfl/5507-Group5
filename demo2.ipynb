{
 "cells": [
  {
   "cell_type": "code",
   "execution_count": 31,
   "metadata": {},
   "outputs": [],
   "source": [
    "import pandas as pd "
   ]
  },
  {
   "cell_type": "code",
   "execution_count": 32,
   "metadata": {},
   "outputs": [
    {
     "data": {
      "text/plain": [
       "Index(['mid', 'publish_time', 'user_name', 'user_link', 'content', 'source',\n",
       "       'location_url', 'location_name', 'image_urls', 'weibo_link',\n",
       "       'forward_num', 'comment_num', 'like_num', 'verify_typ'],\n",
       "      dtype='object')"
      ]
     },
     "execution_count": 32,
     "metadata": {},
     "output_type": "execute_result"
    }
   ],
   "source": [
    "df = pd.read_csv(\"barbie2.csv\")\n",
    "df.columns"
   ]
  },
  {
   "cell_type": "code",
   "execution_count": 33,
   "metadata": {},
   "outputs": [
    {
     "name": "stdout",
     "output_type": "stream",
     "text": [
      "before with duplicates:  (70121, 14)\n",
      "after removing duplicates:  (59408, 14)\n"
     ]
    }
   ],
   "source": [
    "df_no_duplicates = df.drop_duplicates(subset=['user_name'])\n",
    "print(\"before with duplicates: \", df.shape)\n",
    "print(\"after removing duplicates: \", df_no_duplicates.shape)"
   ]
  },
  {
   "cell_type": "code",
   "execution_count": 34,
   "metadata": {},
   "outputs": [
    {
     "data": {
      "text/plain": [
       "1"
      ]
     },
     "execution_count": 34,
     "metadata": {},
     "output_type": "execute_result"
    }
   ],
   "source": [
    "empty_entries_count = df_no_duplicates[\"content\"].isna().sum()\n",
    "empty_entries_count"
   ]
  },
  {
   "cell_type": "code",
   "execution_count": 35,
   "metadata": {},
   "outputs": [
    {
     "name": "stderr",
     "output_type": "stream",
     "text": [
      "/var/folders/j_/4l9hkqp54tdd4zw8rr_b04yh0000gn/T/ipykernel_45701/2036669391.py:1: SettingWithCopyWarning: \n",
      "A value is trying to be set on a copy of a slice from a DataFrame\n",
      "\n",
      "See the caveats in the documentation: https://pandas.pydata.org/pandas-docs/stable/user_guide/indexing.html#returning-a-view-versus-a-copy\n",
      "  df_no_duplicates.dropna(subset=['content'], inplace=True)\n"
     ]
    },
    {
     "data": {
      "text/plain": [
       "(59407, 14)"
      ]
     },
     "execution_count": 35,
     "metadata": {},
     "output_type": "execute_result"
    }
   ],
   "source": [
    "df_no_duplicates.dropna(subset=['content'], inplace=True)\n",
    "df_no_duplicates.shape"
   ]
  },
  {
   "cell_type": "code",
   "execution_count": 36,
   "metadata": {},
   "outputs": [
    {
     "data": {
      "text/plain": [
       "{'女性', '女权', '女权主义'}"
      ]
     },
     "execution_count": 36,
     "metadata": {},
     "output_type": "execute_result"
    }
   ],
   "source": [
    "keywords = set()\n",
    "with open(\"keyword.txt\", \"r\") as f:\n",
    "    for line in f:\n",
    "        keywords.add(line.strip())\n",
    "        \n",
    "keywords\n",
    "    "
   ]
  },
  {
   "cell_type": "code",
   "execution_count": 37,
   "metadata": {},
   "outputs": [],
   "source": [
    "def find_exist(content):\n",
    "    for key in keywords:\n",
    "        if key in content:\n",
    "            return True \n",
    "    return False "
   ]
  },
  {
   "cell_type": "code",
   "execution_count": 42,
   "metadata": {},
   "outputs": [
    {
     "data": {
      "text/plain": [
       "(11482, 14)"
      ]
     },
     "execution_count": 42,
     "metadata": {},
     "output_type": "execute_result"
    }
   ],
   "source": [
    "rows = []\n",
    "i = 0\n",
    "for index, row in df_no_duplicates.iterrows():\n",
    "    if find_exist(row[\"content\"]):\n",
    "        rows.append(i)\n",
    "    i+=1\n",
    "    \n",
    "df_keywords = df_no_duplicates.iloc[rows]\n",
    "df_keywords.shape"
   ]
  },
  {
   "cell_type": "code",
   "execution_count": 57,
   "metadata": {},
   "outputs": [
    {
     "data": {
      "text/plain": [
       "\"@院线电影资料库 @张小北 @丛宙 《芭比》部分关键对白 大陆VS台湾VS香港广东话 三版官方字幕翻译趁亚太版蓝光上市之际，先把这篇发出来，等到实体碟出来，大家可以自己挑选心水的字幕。友情提示：大陆译者比港台译者多一重负担，即大陆译者需在短期内（一般也就一周甚至不到一周），突击完成国语配音版的台词本和字幕版译文的翻译（为了防止剧本泄露，原则上一人担纲），而一般电影剧本的译文总有三五万字，所以大陆外语分账片的字幕多是在国语配音台本基础上简单修改而来。还有，无论大陆译者还是港台译者，他们面对的只有对白本和分辨率不高于480P的视频（有的甚至是黑白画面甚至倒置左右方向，以防止流出），时间轴要重做。而民间字幕组有了英字就省了时间轴了。本片大陆版配音台本兼字幕翻译由长影委托甲骨易公司操刀。本片台湾版字幕译者是淡江大学副教授陈家倩女士，她著有《字幕翻译必修课:40部电影接案练习本》《我的职业是电影字幕翻译师》两部讲述影视翻译行业的专著，大家可以在淘宝买到。陈家倩女士非常注重控制字幕的字数，译文讲究简洁干练，文风偏意译。本片香港版广东话字幕译者是利慧中，老牌字幕译者，其他情况均不详，不过我记得利氏在香港本地的某个影评网站发过文章。Yes, Barbie changed everything.Then, she changed it all againAll of these women are Barbie,and Barbie is all of these women. She might have started out as just a lady in a bathing suit,but she became so much more.She has her own money, her own house,her own car, her own career.Because Barbie can be anything,women can be anything .And this has been reflected back onto the little girls of today in the Real World. Girls can grow into women, who can achieve everything and anything they set their mind to.Thanks to Barbie,all problems of feminism and equal rights have been solved. At least that's what the Barbies think.After all, they're living in Barbie Land. Who am I to burst their bubble?大陆（甲骨易翻译，直接沿用国配台本）没错，芭比改变了一切。然后，她又颠覆了一切，她们每个人都是芭比，而芭比也是她们中的每个人。最初 她只是一个穿着泳衣的姑娘，后来却渐渐成就非凡，她财务自由、坐拥豪宅、驾驶名车，而且事业有成，芭比拥有无限可能，女性也有无限可能。芭比，在如今的现实世界里，这一点在女孩们身上，体现得淋漓尽致，女孩们长大以后，她们能成就任何事，去实现自己的理想。芭比的出现，消除了女性主义与性别平权道路上的重重障碍。至少， 芭比们是这么认为的。毕竟，她们住在芭比乐园里。我凭什么戳破那个梦呢？台湾（陈家倩）对，芭比让情况改观了，然后她持续进化，这些女人都是芭比，芭比也代表这些女人，她最初只是穿著泳衣，但她愈来愈多变，她有钱，有房，有车，有事业，因为芭比千变万化，女人千变万化。这多少反映在现代真实世界中的小女孩身上。女孩会长成女人。女人能成就一切，随心所欲。多亏芭比，女权与平权问题都解决了。至少芭比自以为解决了。毕竟她们都住在芭比乐园，我凭什麽戳破她们的幻想。香港（利慧中）没错，芭比改变了一切，然后，她又再改变了一切。所有这些女人都是芭比，而芭比就是所有这些女人。她一开始可能只是穿泳衣的女士，但后来她有了更多身份。她有自己的钱、自己的屋、自己的车、自己的事业。因为芭比可以做任何事、女人可以做任何事。而这一点可以反映到...现今真实世界的小女孩身上，女孩长成女人。她们可实现自己想要的一切和任何事情。多得芭比，所有女权主义和平权问题都解决了。至少各位芭比是这样想。毕竟，她们都住在芭比乐园，我怎能戳破她们的美梦？You are so beautiful and so smart, and it kills me that you don't think you're good enough. Like we have to always be extraordinary. But somehow, we're always doing it wrong.You have to be thin but not too thin, and you can never say you want to be thin.You have to say you want to be healthy, but also you have to be thin.You have to have money, but you can't ask for money because that's crass.You have to be a boss but you can't be mean.You have to lead, but you can't squash other people's ideas.You're supposed to love being a mother, but don't talk about your kids all the damn time.You have to be a career woman but also always be looking out for other people.You have to answer for men's bad behavior, which is insane,but if you point that out, you're accused of complaining.You're supposed to stay pretty for men but not so pretty that you tempt them too much or that you threaten other women because you're supposed to be a part of the sisterhood but always stand out.And always be grateful.But never forget that the system is rigged, so find a way to acknowledge that but also always be grateful.You have to never get old, never be rude, never show off, never be selfish, never fall down, never fail, never show fear, never get out of line.It's too hard, it's too contradictory, and nobody gives you a medal or says thank you. And it turns out, in fact, that not only are you doing everything wrong but also everything is your fault.大陆（甲骨易，直接沿用国语台本）你说你都这么漂亮 这么聪明了。还说自己不够好 这让我情何以堪。好像我们必须时刻做到无可挑剔，可事与愿违，我们又总是一错再错。你必须瘦，又不能太瘦。你不能说自己想瘦。你得说：你是为了健康，所以不得不逼着自己瘦。你要有钱，但是不能张口要钱，否则就是俗。你要往上爬，但不能靠手腕。要有领导力，但不能压制别人的想法。你必须喜欢当妈妈。但不能整天把孩子挂在嘴上。你要有自己的事业。但同时你得把身边的人照顾得无微不至。如果男人干了荒唐事，就是女人的问题——这很离谱，可如果你公之于众，他们就骂你是怨妇。你要为男人而美，但不能过度，让男人有非分之想，或者让女人有危机感，因为要想融入女人圈，就不能过于突出。你必须懂得感恩，但是别忘了系统是受操控的。你要想办法接受。同时还要心存感激。你永远不能变老、永远不能失态、永远不能炫耀、永远不能自私、永远不能消沉、不能失败、不能胆怯、永远不能离经叛道——这太困难了，处处都是矛盾。而且绝对不会有人奖励你或感谢你，到了最后，你不但做错了所有事，而且所有的错都怪在你头上。台湾（陈家倩）你很美又聪明，我听不下去你说你很废，好像女人总是求好心切，却总是受到批评，女人要瘦，但不能瘦过头，也绝不能说想变瘦，要说你想健康，但也要瘦。女人要有钱，但不能爱钱，因为太俗。女人要当老板，但不能骂人。女人要当领袖，但不能反对别人意见。女人理当乐在当妈，但不能老是聊小孩的事。要当职业妇女，但也总要照顾别人。女人要为男人的恶行负责，没天良。但你指正男人就会被说成抱怨。女为悦己者容，但不能招摇，以免招蜂引蝶或威胁到其他女人。因为你要有姊妹淘，但不能被比下去。随时心怀感恩，但千万别忘记体制很腐败。非得认命，但随时感恩。女人不能变老，不能无礼，不能爱现，不能自私，不能垮掉，不能失败，不能畏缩，不能越界，这太难了，太矛盾了，没人奖赏你或向你道谢，结果你不只凡事都做错，而且凡事都是你的错。香港（利慧中）你好靓，亦好聪明，你觉得自己未够好，这令我难过，就像我们时刻都要厉害不凡，但不知何故，我们总是做错，你要瘦，但不能太瘦，而且永远不能说自己想瘦，你要话自己想健康，但同时你又要瘦，你要有钱，但不能问人要钱，因为那太势利，你要做老板，但又不能太刻薄，你要领导别人，但又不能压制别人的想法，你应该要中意做妈妈，但又不能一直提起仔女，你要做职业女性，但又要时刻关顾别人，你要为男人的不良行为负责，简直黐线，但如果你直指其非，别人会怪你投诉多多，你要为男人扮靓，但又不能太靓，太靓就话你发姣，或威胁到其他女人，因为女性要互相扶持，但又要比她们优胜，而且要时刻感恩，但别忘记制度都被操纵，所以要想办法认清这点，但又要永远心存感激。你永远不能变老、永远不能粗鲁、不能认叻、不能自私、不能跌倒、不能失败，不能表示畏惧、永远不能逾界，太难了，太矛盾。就算做到都没人认可，或多谢你。到最后更发现，你不仅一切都做错，而且一切都是你的错。Wait.I did write a book.It's like I've been in a dream,where I was somehow really invested in the Zack Snyder cut of Justice League.大陆（甲骨易，直接沿用国语台本）等等，我是写过一本书，我好像做了一场梦，梦里的我莫名爱看《正义联盟》的扎克·施奈德导演剪辑版，但是你的话让我醒了过来台湾（陈家倩）等等，我真的写过书，我好像做了个梦，受困在查克史奈德电影裡的男人世界，你的一番话让我破茧而出香港（利慧中）等等...我的确写过一本书，我之前似发了场梦，我不知何故突然很想看萨克薛达版的《正义联盟》，但你刚才那番话令我醒觉。By giving voice to the cognitive dissonance required to be a woman under the patriarchy,- you robbed it of its power.大陆（甲骨易，直接沿用国语台本）：你指出了女人在父权制社会中的认知失调困境，破了他们的洗脑包！台湾（陈家倩）：我们要为父权所造成，女人认知失调，被夺走力量而发声！香港（利慧中）：透过表达出在父权制下...女人要面对的矛盾，就可以剥夺其力量个别名词翻译（可能受制于美泰在各地的注册商标和法人名称）：Mattel 大陆及香港：美泰；台湾：美泰儿Ken 大陆：肯、港台两地：肯尼Stereotypical Barbie 大陆：经典芭比；台湾：典型芭比；香港：既定印象芭比。个人点评：台湾的陈家倩女士最精彩的地方是行文简洁洗练，三版字幕，每一个大段落，都是陈女士字数最少，但核心意思不变，因此对老人和未成年人也非常友好，非常值得专业从业人员和业余字幕翻译爱好者学习。其次是鲜明的性别意识——第二段中的人称变换堪称亮点。缺点也有，就是有时过度追求意译和简洁，到了第三段的时候，那一句的改译，把“robbed it of its power”整个给改没了，这句还不如大陆译者。第三段以大陆译文最为贴切。大陆字幕其实中规中矩，它的问题是，整个译文都是从普通话配音台本搬过来的（分账片大多如此），用在原声字幕版中，译文显得偏长，不太适合年长观众和青少年观影；而且它有些译文是迁就配音演员表演的，是中文口语语境，而不是英文语境，放到原声环境下，多少有些错位。利慧中的粤语字幕中规中矩，“太靓就话你发姣”这么口语化的句子都出来了，为什么在第三段这么失色呢？ 收起d\""
      ]
     },
     "execution_count": 57,
     "metadata": {},
     "output_type": "execute_result"
    }
   ],
   "source": [
    "df_keywords.at[29, \"content\"]"
   ]
  },
  {
   "cell_type": "code",
   "execution_count": null,
   "metadata": {},
   "outputs": [],
   "source": [
    "df_no_duplicates.to_csv(\"preprocessed.csv\")\n",
    "df_keywords.to_csv(\"preprocessed_with_keywords.csv\")"
   ]
  }
 ],
 "metadata": {
  "kernelspec": {
   "display_name": "Python 3",
   "language": "python",
   "name": "python3"
  },
  "language_info": {
   "codemirror_mode": {
    "name": "ipython",
    "version": 3
   },
   "file_extension": ".py",
   "mimetype": "text/x-python",
   "name": "python",
   "nbconvert_exporter": "python",
   "pygments_lexer": "ipython3",
   "version": "3.11.6"
  },
  "orig_nbformat": 4
 },
 "nbformat": 4,
 "nbformat_minor": 2
}
