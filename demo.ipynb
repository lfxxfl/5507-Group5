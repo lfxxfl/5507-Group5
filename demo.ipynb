{
 "cells": [
  {
   "cell_type": "code",
   "execution_count": 2,
   "metadata": {},
   "outputs": [],
   "source": [
    "import pandas as pd "
   ]
  },
  {
   "cell_type": "code",
   "execution_count": 3,
   "metadata": {},
   "outputs": [
    {
     "data": {
      "text/plain": [
       "Index(['mid', 'publish_time', 'user_name', 'user_link', 'content', 'source',\n",
       "       'location_url', 'location_name', 'image_urls', 'weibo_link',\n",
       "       'forward_num', 'comment_num', 'like_num', 'verify_typ',\n",
       "       'Sentiment Score', 'Sentiment Category'],\n",
       "      dtype='object')"
      ]
     },
     "execution_count": 3,
     "metadata": {},
     "output_type": "execute_result"
    }
   ],
   "source": [
    "df = pd.read_csv(\"Sentiment.csv\")\n",
    "df.columns"
   ]
  },
  {
   "cell_type": "code",
   "execution_count": 5,
   "metadata": {},
   "outputs": [
    {
     "data": {
      "text/plain": [
       "{'橙V认证', '没有认证', '红V认证', '蓝V认证', '黄V认证'}"
      ]
     },
     "execution_count": 5,
     "metadata": {},
     "output_type": "execute_result"
    }
   ],
   "source": [
    "set(df['verify_typ'])"
   ]
  },
  {
   "cell_type": "code",
   "execution_count": 26,
   "metadata": {},
   "outputs": [],
   "source": [
    "def statistics(verify_typ):\n",
    "    print(f\"VIP type is {verify_typ}\")\n",
    "    print(df[df['verify_typ'] == verify_typ].groupby('Sentiment Category').size())\n",
    "    print()"
   ]
  },
  {
   "cell_type": "code",
   "execution_count": 27,
   "metadata": {},
   "outputs": [
    {
     "name": "stdout",
     "output_type": "stream",
     "text": [
      "VIP type is 蓝V认证\n",
      "Sentiment Category\n",
      "negative     281\n",
      "neutral      752\n",
      "positive    3428\n",
      "dtype: int64\n",
      "\n",
      "VIP type is 红V认证\n",
      "Sentiment Category\n",
      "negative    1016\n",
      "neutral     1908\n",
      "positive    3942\n",
      "dtype: int64\n",
      "\n",
      "VIP type is 没有认证\n",
      "Sentiment Category\n",
      "negative     7020\n",
      "neutral      8153\n",
      "positive    31924\n",
      "dtype: int64\n",
      "\n"
     ]
    }
   ],
   "source": [
    "statistics('蓝V认证')\n",
    "statistics('红V认证')\n",
    "statistics('没有认证')"
   ]
  },
  {
   "cell_type": "code",
   "execution_count": null,
   "metadata": {},
   "outputs": [],
   "source": []
  }
 ],
 "metadata": {
  "kernelspec": {
   "display_name": "Python 3",
   "language": "python",
   "name": "python3"
  },
  "language_info": {
   "codemirror_mode": {
    "name": "ipython",
    "version": 3
   },
   "file_extension": ".py",
   "mimetype": "text/x-python",
   "name": "python",
   "nbconvert_exporter": "python",
   "pygments_lexer": "ipython3",
   "version": "3.11.6"
  },
  "orig_nbformat": 4
 },
 "nbformat": 4,
 "nbformat_minor": 2
}
