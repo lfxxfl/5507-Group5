{
 "cells": [
  {
   "cell_type": "code",
   "execution_count": null,
   "id": "a327357a",
   "metadata": {},
   "outputs": [],
   "source": [
    "# !pip install pandas\n",
    "import pandas as pd"
   ]
  },
  {
   "cell_type": "code",
   "execution_count": 15,
   "id": "0a8d509b",
   "metadata": {},
   "outputs": [],
   "source": [
    "feminism_keywords = ['feminism', 'gender equality', 'women\\'s rights', 'equal pay', 'gender bias', 'misogyny', 'patriarchy', 'woman empowerment', 'gender roles', 'female agency', 'representation', 'glass ceiling', 'intersectionality', 'female empowerment', 'bechdel test', 'gender stereotypes', 'feminist theory', 'gender parity', 'sexual harassment', 'body positivity', 'gender discrimination', 'feminist film theory', 'gender dynamics', 'female protagonist', 'women in film', 'female director', 'gender gap', 'social justice', 'women\\'s liberation', 'gender identity']\n"
   ]
  },
  {
   "cell_type": "code",
   "execution_count": 16,
   "id": "ac278434",
   "metadata": {},
   "outputs": [],
   "source": [
    "df = pd.read_csv('IMDB_reviews_cleaned-Sentiment.csv')"
   ]
  },
  {
   "cell_type": "code",
   "execution_count": 17,
   "id": "0cbae9cd",
   "metadata": {},
   "outputs": [],
   "source": [
    "# Function to find if a comment contains any of the feminism-related keywords\n",
    "def contains_feminism_keywords(text):\n",
    "    for keyword in feminism_keywords:\n",
    "        if keyword in text.lower():  # Convert text to lowercase for case-insensitive matching\n",
    "            return True\n",
    "    return False"
   ]
  },
  {
   "cell_type": "code",
   "execution_count": 18,
   "id": "6e21252f",
   "metadata": {},
   "outputs": [],
   "source": [
    "# Apply the function to each comment and create a new column for the results\n",
    "df['Related_to_Feminism'] = df['Review'].apply(contains_feminism_keywords)"
   ]
  },
  {
   "cell_type": "code",
   "execution_count": 19,
   "id": "8308dd64",
   "metadata": {},
   "outputs": [],
   "source": [
    "# Filter the dataframe to include only the rows where 'Related_to_Feminism' is True\n",
    "feminism_related_comments = df[df['Related_to_Feminism']]"
   ]
  },
  {
   "cell_type": "code",
   "execution_count": 20,
   "id": "cbdc1d51",
   "metadata": {},
   "outputs": [],
   "source": [
    "# Save the relevant comments to a new CSV file\n",
    "feminism_related_comments.to_csv('/Users/luomengxin/Downloads/IMBD-Feminism_Related_Comments.csv', index=False)"
   ]
  },
  {
   "cell_type": "code",
   "execution_count": 21,
   "id": "65a4c466",
   "metadata": {},
   "outputs": [],
   "source": [
    "df = pd.read_csv('Youtube-final_data-Sentiment.csv')"
   ]
  },
  {
   "cell_type": "code",
   "execution_count": 24,
   "id": "52e2be51",
   "metadata": {},
   "outputs": [],
   "source": [
    "def contains_feminism_keywordss(text):\n",
    "    # Check if 'text' is a string\n",
    "    if isinstance(text, str):\n",
    "        for keyword in feminism_keywords:\n",
    "            if keyword in text.lower():  # Convert text to lowercase for case-insensitive matching\n",
    "                return True\n",
    "    return False\n",
    "\n",
    "# Apply the modified function to each comment and create a new column for the results\n",
    "df['Related_to_Feminism'] = df['Comment'].apply(contains_feminism_keywordss)"
   ]
  },
  {
   "cell_type": "code",
   "execution_count": 25,
   "id": "da47f189",
   "metadata": {},
   "outputs": [],
   "source": [
    "# Filter the dataframe to include only the rows where 'Related_to_Feminism' is True\n",
    "feminism_related_comments = df[df['Related_to_Feminism']]"
   ]
  },
  {
   "cell_type": "code",
   "execution_count": 26,
   "id": "277d33a5",
   "metadata": {},
   "outputs": [],
   "source": [
    "# Save the relevant comments to a new CSV file\n",
    "feminism_related_comments.to_csv('/Users/luomengxin/Downloads/Youtube-Feminism_Related_Comments.csv', index=False)"
   ]
  },
  {
   "cell_type": "code",
   "execution_count": null,
   "id": "0ed85210",
   "metadata": {},
   "outputs": [],
   "source": [
    "# all the proportion comparison\n",
    "\n",
    "import pandas as pd\n",
    "\n",
    "# Reload the original datasets and the newly provided datasets\n",
    "file_path_original_youtube = '/mnt/data/Youtube-Feminism_Related_Comments.csv'\n",
    "file_path_original_imdb = '/mnt/data/IMBD-Feminism_Related_Comments.csv'\n",
    "file_path_imdb_cleaned = '/mnt/data/IMDB_reviews_cleaned-Sentiment.csv'\n",
    "file_path_youtube_cleaned = '/mnt/data/Youtube-final_data-Sentiment.csv'\n",
    "\n",
    "data_original_youtube = pd.read_csv(file_path_original_youtube)\n",
    "data_original_imdb = pd.read_csv(file_path_original_imdb)\n",
    "data_imdb_cleaned = pd.read_csv(file_path_imdb_cleaned)\n",
    "data_youtube_cleaned = pd.read_csv(file_path_youtube_cleaned)\n",
    "\n",
    "# Display the first few rows of each new dataframe to understand its structure\n",
    "data_imdb_cleaned_head = data_imdb_cleaned.head()\n",
    "data_youtube_cleaned_head = data_youtube_cleaned.head()\n",
    "\n",
    "data_imdb_cleaned_head, data_youtube_cleaned_head\n"
   ]
  },
  {
   "cell_type": "code",
   "execution_count": null,
   "id": "f717daaf",
   "metadata": {},
   "outputs": [],
   "source": []
  }
 ],
 "metadata": {
  "kernelspec": {
   "display_name": "Python 3 (ipykernel)",
   "language": "python",
   "name": "python3"
  },
  "language_info": {
   "codemirror_mode": {
    "name": "ipython",
    "version": 3
   },
   "file_extension": ".py",
   "mimetype": "text/x-python",
   "name": "python",
   "nbconvert_exporter": "python",
   "pygments_lexer": "ipython3",
   "version": "3.11.5"
  }
 },
 "nbformat": 4,
 "nbformat_minor": 5
}
